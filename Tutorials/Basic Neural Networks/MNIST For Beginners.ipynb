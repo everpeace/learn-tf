{
 "cells": [
  {
   "cell_type": "markdown",
   "metadata": {},
   "source": [
    "# [MNIST For ML Beginners](https://www.tensorflow.org/versions/r0.9/tutorials/mnist/beginners/index.html#mnist-for-ml-beginners)\n",
    "\n",
    "## [The MNIST Data](https://www.tensorflow.org/versions/r0.9/tutorials/mnist/beginners/index.html#the-mnist-data)"
   ]
  },
  {
   "cell_type": "code",
   "execution_count": 1,
   "metadata": {},
   "outputs": [
    {
     "name": "stdout",
     "output_type": "stream",
     "text": [
      "Successfully downloaded train-images-idx3-ubyte.gz 9912422 bytes.\n",
      "Extracting MNIST_data/train-images-idx3-ubyte.gz\n",
      "Successfully downloaded train-labels-idx1-ubyte.gz 28881 bytes.\n",
      "Extracting MNIST_data/train-labels-idx1-ubyte.gz\n",
      "Successfully downloaded t10k-images-idx3-ubyte.gz 1648877 bytes.\n",
      "Extracting MNIST_data/t10k-images-idx3-ubyte.gz\n",
      "Successfully downloaded t10k-labels-idx1-ubyte.gz 4542 bytes.\n",
      "Extracting MNIST_data/t10k-labels-idx1-ubyte.gz\n"
     ]
    }
   ],
   "source": [
    "# MNISTはexamplesにあって、ダウンロードもメソッド一発\n",
    "from tensorflow.examples.tutorials.mnist import input_data\n",
    "mnist = input_data.read_data_sets(\"MNIST_data/\", one_hot=True)"
   ]
  },
  {
   "cell_type": "code",
   "execution_count": 4,
   "metadata": {},
   "outputs": [
    {
     "data": {
      "text/plain": [
       "Datasets(train=<tensorflow.contrib.learn.python.learn.datasets.mnist.DataSet object at 0x11202a0b8>, validation=<tensorflow.contrib.learn.python.learn.datasets.mnist.DataSet object at 0x10b6f0320>, test=<tensorflow.contrib.learn.python.learn.datasets.mnist.DataSet object at 0x10b6f3908>)"
      ]
     },
     "execution_count": 4,
     "metadata": {},
     "output_type": "execute_result"
    }
   ],
   "source": [
    "# mnist datasetにはtrain, validation, testの３つのデータが入っている\n",
    "# それぞれDataSetというクラス(mnist自体はDatasetsというクラス)\n",
    "mnist"
   ]
  },
  {
   "cell_type": "code",
   "execution_count": 12,
   "metadata": {},
   "outputs": [
    {
     "name": "stdout",
     "output_type": "stream",
     "text": [
      "(55000, 784)\n",
      "(5000, 784)\n",
      "(10000, 784)\n"
     ]
    }
   ],
   "source": [
    "# イメージ数は\n",
    "# (ndarrayの次元はshapeメソッドを使う)\n",
    "# train: 55000 images\n",
    "# validation: 5000 images\n",
    "# validation: 10000 images\n",
    "\n",
    "# イメージはそれぞれ size 784 のarray. 28 x 28 pixelの画像\n",
    "print(mnist.train.images.shape)\n",
    "print(mnist.validation.images.shape)\n",
    "print(mnist.test.images.shape)"
   ]
  },
  {
   "cell_type": "code",
   "execution_count": 19,
   "metadata": {},
   "outputs": [
    {
     "name": "stdout",
     "output_type": "stream",
     "text": [
      "(55000, 10)\n",
      "(5000, 10)\n",
      "(10000, 10)\n"
     ]
    }
   ],
   "source": [
    "# それぞれのイメージがどの数字を表しているかはlabelsに入っている\n",
    "# 0~9のどこかに1が入っている\n",
    "print(mnist.train.labels.shape)\n",
    "print(mnist.validation.labels.shape)\n",
    "print(mnist.test.labels.shape)"
   ]
  },
  {
   "cell_type": "markdown",
   "metadata": {},
   "source": [
    "# [Implementing the Regression](https://www.tensorflow.org/versions/r0.9/tutorials/mnist/beginners/index.html#implementing-the-regression)"
   ]
  },
  {
   "cell_type": "code",
   "execution_count": 16,
   "metadata": {},
   "outputs": [],
   "source": [
    "# 回帰用の計算グラフの定義\n",
    "import tensorflow as tf\n",
    "\n",
    "# 入力層\n",
    "# placeholderとして定義されている\n",
    "# float型で、n行 784列の行列のplaceholderとして定義\n",
    "# (最初の次元のNoneは任意の次元を表す)\n",
    "x = tf.placeholder(tf.float32, [None, 784])\n",
    "\n",
    "# 入力層と出力層を繋ぐ重みとbias\n",
    "W = tf.Variable(tf.zeros([784, 10]))\n",
    "b = tf.Variable(tf.zeros([10]))\n",
    "\n",
    "# 出力層\n",
    "y = tf.nn.softmax(tf.matmul(x, W) + b)"
   ]
  },
  {
   "cell_type": "markdown",
   "metadata": {},
   "source": [
    "# [Training](https://www.tensorflow.org/versions/r0.9/tutorials/mnist/beginners/index.html#training)"
   ]
  },
  {
   "cell_type": "code",
   "execution_count": 21,
   "metadata": {},
   "outputs": [],
   "source": [
    "# 学習時に利用する教師データのラベル用のplaceholder\n",
    "y_ = tf.placeholder(tf.float32, [None, 10])\n",
    "\n",
    "# 学習時のcost(loss)\n",
    "cross_entropy = tf.reduce_mean(-tf.reduce_sum(y_ * tf.log(y), reduction_indices=[1]))"
   ]
  },
  {
   "cell_type": "code",
   "execution_count": 22,
   "metadata": {},
   "outputs": [],
   "source": [
    "# cross_entropyという計算グラフを\n",
    "# Gradient Descentを使って学習を1ステップ行う計算グラフ\n",
    "#   学習ステップを実行するとVariablesが変化する\n",
    "# パラメータである 0.5 は学習率(learning rate)\n",
    "train_step = tf.train.GradientDescentOptimizer(0.5).minimize(cross_entropy)"
   ]
  },
  {
   "cell_type": "code",
   "execution_count": 25,
   "metadata": {},
   "outputs": [],
   "source": [
    "# 実際に学習させてみる\n",
    "# 変数を初期化して、train_stepという計算を1000回行ってみる\n",
    "init = tf.initialize_all_variables()\n",
    "sess = tf.Session()\n",
    "sess.run(init)\n",
    "for i in range(1000):\n",
    "  batch_xs, batch_ys = mnist.train.next_batch(100)\n",
    "  sess.run(train_step, feed_dict={x: batch_xs, y_: batch_ys})"
   ]
  },
  {
   "cell_type": "markdown",
   "metadata": {},
   "source": [
    "# [Evaluating Our Model](https://www.tensorflow.org/versions/r0.9/tutorials/mnist/beginners/index.html#evaluating-our-model)"
   ]
  },
  {
   "cell_type": "code",
   "execution_count": 27,
   "metadata": {},
   "outputs": [
    {
     "name": "stdout",
     "output_type": "stream",
     "text": [
      "0.9159\n"
     ]
    }
   ],
   "source": [
    "# y(予測値) と y_(正答)を比較して、同じだったらTrueになるような計算グラフを作る\n",
    "# (argmaxは値が最大になるような添字を返す)\n",
    "correct_prediction = tf.equal(tf.argmax(y,1), tf.argmax(y_,1))\n",
    "\n",
    "# 真理値をflaotにcastして、平均値(0, 1ベクトルの平均なので正答率)を出す計算グラフ\n",
    "accuracy = tf.reduce_mean(tf.cast(correct_prediction, tf.float32))\n",
    "\n",
    "# 正答率は約92%のはず\n",
    "print(sess.run(accuracy, feed_dict={x: mnist.test.images, y_: mnist.test.labels}))"
   ]
  }
 ],
 "metadata": {
  "kernelspec": {
   "display_name": "Python 3",
   "language": "python",
   "name": "python3"
  },
  "language_info": {
   "codemirror_mode": {
    "name": "ipython",
    "version": 3
   },
   "file_extension": ".py",
   "mimetype": "text/x-python",
   "name": "python",
   "nbconvert_exporter": "python",
   "pygments_lexer": "ipython3",
   "version": "3.5.1"
  }
 },
 "nbformat": 4,
 "nbformat_minor": 0
}
